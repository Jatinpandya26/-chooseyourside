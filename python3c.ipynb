{
  "nbformat": 4,
  "nbformat_minor": 0,
  "metadata": {
    "colab": {
      "name": "python3c.ipynb",
      "version": "0.3.2",
      "provenance": [],
      "collapsed_sections": [],
      "include_colab_link": true
    },
    "kernelspec": {
      "name": "python3",
      "display_name": "Python 3"
    }
  },
  "cells": [
    {
      "cell_type": "markdown",
      "metadata": {
        "id": "view-in-github",
        "colab_type": "text"
      },
      "source": [
        "<a href=\"https://colab.research.google.com/github/Jatinpandya26/civilwarsidechoose/blob/master/python3c.ipynb\" target=\"_parent\"><img src=\"https://colab.research.google.com/assets/colab-badge.svg\" alt=\"Open In Colab\"/></a>"
      ]
    },
    {
      "metadata": {
        "id": "be5aecj9rwXP",
        "colab_type": "code",
        "outputId": "da3b6ab7-7228-4f59-aa75-7a73ec403f4e",
        "colab": {
          "base_uri": "https://localhost:8080/",
          "height": 85
        }
      },
      "cell_type": "code",
      "source": [
        "import random\n",
        "\n",
        "\n",
        "\n",
        "n=input(\"may I have your name\")\n",
        "\n",
        "j=len(n)\n",
        "\n",
        "if (j%3==0):\n",
        "  print(\"I see you are a person with hard goal\")\n",
        "elif(j%5==0):\n",
        "  print(\"you are a person of your word\")\n",
        "else:\n",
        "  print(\"youo are a ambitious soul\")\n",
        "  \n",
        "\n",
        "  \n",
        "  \n",
        "  \n",
        "  \n",
        "print(\"############ #based on your name and personality , you are chosen by the avenger like u ############\")\n",
        "  \n",
        "\n",
        "  \n",
        "  \n",
        "  \n",
        "  \n",
        "h=random.randint(10,50)\n",
        "\n",
        "if(h%3==0):\n",
        "  print(\"you are like tony stark aka Ironman,welcome you are on team stark\")\n",
        "else:\n",
        "  print(\"you are like steve roggers aka captain america, congrats you are on team cap\")\n",
        "\n",
        "###end \n",
        "########################################### #a code by Jatin268 #############################################################"
      ],
      "execution_count": 0,
      "outputs": [
        {
          "output_type": "stream",
          "text": [
            "may I have your namejatin pandya\n",
            "I see you are a person with hard goal\n",
            "############ #based on your name and personality , you are chosen by the avenger like u ############\n",
            "you are like steve roggers aka captain america, congrats you are on team cap\n"
          ],
          "name": "stdout"
        }
      ]
    }
  ]
}